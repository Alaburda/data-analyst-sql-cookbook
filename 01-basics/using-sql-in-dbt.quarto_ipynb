{
  "cells": [
    {
      "cell_type": "markdown",
      "metadata": {},
      "source": [
        "## dbt incremental models should be configured VERY differently from official documentation\n",
        "\n",
        "dbt Labs suggests adding a subquery to first select the max date or id from the current table and then pass the value onto the query. However, this results in a dynamic query - in some cases, the query engine does not know the value to filter on beforehand and may opt for a full table scan anyway. In essence, incremental loading can be computationally the same to a full query!\n",
        "\n",
        "[Here](https://stackoverflow.com/a/75818399)'s the solution:\n",
        "\n",
        "\n",
        "\n",
        "\n",
        "\n",
        "\n",
        "```{sql}\n",
        "#| eval: false\n",
        "\n",
        "{% if is_incremental() %}\n",
        "  {%- call statement('state', fetch_result=True) -%}\n",
        "\n",
        "    select max(load_date) from {{ this }}\n",
        "\n",
        "  {%- endcall -%}\n",
        "\n",
        "  {%- set prev_max_date = state['data'][0][0] -%}\n",
        "{% endif %}\n",
        "\n",
        "select * from {{ source('huge_table') }}\n",
        "{% if is_incremental() %}\n",
        "    where load_date >= DATE prev_max_date\n",
        "{% endif %}\n",
        "\n",
        "```"
      ],
      "id": "5da2bc0e"
    }
  ],
  "metadata": {
    "kernelspec": {
      "name": "python3",
      "language": "python",
      "display_name": "Python 3 (ipykernel)",
      "path": "C:\\Users\\alabu\\AppData\\Local\\Packages\\PythonSoftwareFoundation.Python.3.12_qbz5n2kfra8p0\\LocalCache\\local-packages\\share\\jupyter\\kernels\\python3"
    }
  },
  "nbformat": 4,
  "nbformat_minor": 5
}